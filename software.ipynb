{
 "cells": [
  {
   "cell_type": "markdown",
   "id": "5433f1b8-ec5e-42ee-b4b4-0702a7c6a122",
   "metadata": {},
   "source": [
    "# Software + Data"
   ]
  },
  {
   "cell_type": "markdown",
   "id": "d1e69ee7-2d46-4685-8ac5-4e3ba7811890",
   "metadata": {},
   "source": [
    "This page contains information about the computing environment and software packages that we will be using throughout the rest of the book."
   ]
  },
  {
   "cell_type": "markdown",
   "id": "a7136594-1fd3-4033-9520-c9d24bab5b4b",
   "metadata": {},
   "source": [
    "## Computing environment\n",
    "\n",
    "We will make use of a number of software packages that are well-suited for working with geospatial and remote sensing data. These include:`xarray`, `rioxarray`, `dask`, `geopandas`"
   ]
  },
  {
   "cell_type": "code",
   "execution_count": null,
   "id": "e4cbc1f0-c22b-44ff-8c45-70d3eb1ebdb8",
   "metadata": {},
   "outputs": [],
   "source": [
    "import os\n",
    "import tempfile\n",
    "import requests\n",
    "import markdown\n",
    "import pathlib\n",
    "\n",
    "\n",
    "import xarray as xr\n",
    "import rioxarray as rio\n",
    "import geopandas as gpd\n",
    "from shapely.geometry import Polygon\n",
    "\n",
    "import planetary_computer\n",
    "import adlfs\n",
    "import pystac_client\n",
    "from pystac_client import Client\n",
    "import stackstac\n",
    "import pystac\n",
    "\n",
    "\n",
    "import matplotlib.pyplot as plt\n",
    "from datetime import datetime\n",
    "import numpy as np\n",
    "import pandas as pd\n",
    "import rich.table\n",
    "\n",
    "import s1_tools\n",
    "\n",
    "from IPython.display import Image"
   ]
  },
  {
   "cell_type": "markdown",
   "id": "a16be1a0-1ef6-4c78-a3be-684d23178827",
   "metadata": {},
   "source": [
    "See the specific versions of packages used below. You can also access an `environment.yml` file at the github [repo](https://github.com/e-marshall/sentinel1_rtc) associated with this tutorial."
   ]
  },
  {
   "cell_type": "code",
   "execution_count": null,
   "id": "5d4e83f1-7d12-472d-a2fe-9748a0e777fd",
   "metadata": {},
   "outputs": [
    {
     "name": "stdout",
     "output_type": "stream",
     "text": [
      "The watermark extension is already loaded. To reload it, use:\n",
      "  %reload_ext watermark\n",
      "Python implementation: CPython\n",
      "Python version       : 3.10.6\n",
      "IPython version      : 8.5.0\n",
      "\n",
      "Compiler    : Clang 13.0.1 \n",
      "OS          : Darwin\n",
      "Release     : 21.6.0\n",
      "Machine     : x86_64\n",
      "Processor   : i386\n",
      "CPU cores   : 8\n",
      "Architecture: 64bit\n",
      "\n"
     ]
    }
   ],
   "source": [
    "%load_ext watermark \n",
    "\n",
    "%watermark -v -m"
   ]
  },
  {
   "cell_type": "markdown",
   "id": "b7836227-7c89-41ee-bb45-c5122e99796a",
   "metadata": {},
   "source": [
    "## Data\n",
    "\n",
    "This tutorial works with two different datasets of Sentinel-1 RTC imagery. \n",
    "1. The first is processed by Alaska Satellite Facility (ASF) using their On-Demand platform and downloaded locally as directories for each scene containing GeoTIFF files and associated metadata. Access to ASF data and SAR data processing is available to anyone with NASA Earthdata login credentials, which you can learn more about [here](https://www.earthdata.nasa.gov/). The ASF-processed data used in this tutorial is available [here](https://zenodo.org/record/7236413#.Y1rNi37MJ-0).\n",
    "2. The second is processed and hosted by Microsoft Planetary Computer as cloud-optimized GeoTIFF (COGs). "
   ]
  },
  {
   "cell_type": "code",
   "execution_count": null,
   "id": "68bb2b2d-7fdf-41c3-99d6-60e0fcc0a681",
   "metadata": {},
   "outputs": [],
   "source": []
  }
 ],
 "metadata": {
  "kernelspec": {
   "display_name": "Python 3 (ipykernel)",
   "language": "python",
   "name": "python3"
  },
  "language_info": {
   "codemirror_mode": {
    "name": "ipython",
    "version": 3
   },
   "file_extension": ".py",
   "mimetype": "text/x-python",
   "name": "python",
   "nbconvert_exporter": "python",
   "pygments_lexer": "ipython3",
   "version": "3.10.13"
  },
  "widgets": {
   "application/vnd.jupyter.widget-state+json": {
    "state": {},
    "version_major": 2,
    "version_minor": 0
   }
  }
 },
 "nbformat": 4,
 "nbformat_minor": 5
}
